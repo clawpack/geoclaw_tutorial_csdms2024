{
 "cells": [
  {
   "cell_type": "markdown",
   "id": "28833a89-61a0-4411-b87e-905c79644c32",
   "metadata": {},
   "source": [
    "# View plots from GeoClaw output\n",
    "\n",
    "After running `make .plots`, the `_plots` directory contains plots that can be viewed by opening the html file `_plots/_PlotIndex.html`.\n",
    "\n",
    "This notebook can be used if you are unable to open the html file due to permission issues, e.g. on a remote JupyterHub."
   ]
  },
  {
   "cell_type": "code",
   "execution_count": null,
   "id": "72864210-51b6-49c1-b657-b03e715afc24",
   "metadata": {},
   "outputs": [],
   "source": [
    "#from clawpack.clawutil import nbtools\n",
    "# The tools we need aren't in clawpack yet, so use the local version:\n",
    "import os,sys\n",
    "CLINIC = os.environ['HOME'] + '/csdms_clinic_2024'\n",
    "# or set path properly if you have cloned this elsewhere, e.g.\n",
    "#CLINIC = '/Users/rjl/git/csdms_clinic_2024'\n",
    "print('Adding %s to sys.path' % CLINIC)\n",
    "sys.path.insert(0,CLINIC)\n",
    "import nbtools  # must be on python path"
   ]
  },
  {
   "cell_type": "markdown",
   "id": "f18b3d41-5e2c-4ac9-bcad-d99f3558df18",
   "metadata": {},
   "source": [
    "## Example usage:\n",
    "\n",
    "Copy this file to the directory containing `_plots` and then adjust for your problem....\n",
    "\n",
    "Look at the docstrings in `nbtools.py` for more information on usage.\n",
    "You can see the call signature of each function using `?` like this:"
   ]
  },
  {
   "cell_type": "code",
   "execution_count": null,
   "id": "c86e9e58-71e8-4f64-a106-63cdbdd5f6d8",
   "metadata": {},
   "outputs": [],
   "source": [
    "nbtools.show_frame?"
   ]
  },
  {
   "cell_type": "markdown",
   "id": "da7b587d-70db-4a78-bc82-29aea247c05c",
   "metadata": {},
   "source": [
    "### To show a single frame:"
   ]
  },
  {
   "cell_type": "code",
   "execution_count": null,
   "id": "67e301b6-8491-43f6-8d40-598f79ea2f26",
   "metadata": {
    "tags": []
   },
   "outputs": [],
   "source": [
    "frameno = 5\n",
    "nbtools.show_frame(frameno, figno=0)"
   ]
  },
  {
   "cell_type": "markdown",
   "id": "e0bf9830-8f96-4d6a-b4a3-48ea9e995ea8",
   "metadata": {},
   "source": [
    "### Multiple frames:"
   ]
  },
  {
   "cell_type": "code",
   "execution_count": null,
   "id": "4891b974-44bd-4b96-a22f-853e245c6c42",
   "metadata": {},
   "outputs": [],
   "source": [
    "for frameno in range(4):\n",
    "    print('Frame %i:' % frameno)\n",
    "    nbtools.show_frame(frameno, figno=0)"
   ]
  },
  {
   "cell_type": "markdown",
   "id": "14941eb5-6bd2-4369-a4f3-2c01a78b49bc",
   "metadata": {},
   "source": [
    "### To show a single gauge:"
   ]
  },
  {
   "cell_type": "code",
   "execution_count": null,
   "id": "c0a45916-bcbf-460e-b402-553a9c147faa",
   "metadata": {
    "tags": []
   },
   "outputs": [],
   "source": [
    "gaugeno = 32412  # DART gauge for chile2010 example\n",
    "nbtools.show_gauge(gaugeno)"
   ]
  },
  {
   "cell_type": "markdown",
   "id": "7f49cb31-5a1e-44da-b028-b448152a6ea7",
   "metadata": {},
   "source": [
    "### To show an animation:"
   ]
  },
  {
   "cell_type": "code",
   "execution_count": null,
   "id": "059e80e2-d80c-4a53-a216-38246f37aebe",
   "metadata": {
    "tags": []
   },
   "outputs": [],
   "source": [
    "nbtools.show_movie()"
   ]
  }
 ],
 "metadata": {
  "kernelspec": {
   "display_name": "Python 3 (ipykernel)",
   "language": "python",
   "name": "python3"
  },
  "language_info": {
   "codemirror_mode": {
    "name": "ipython",
    "version": 3
   },
   "file_extension": ".py",
   "mimetype": "text/x-python",
   "name": "python",
   "nbconvert_exporter": "python",
   "pygments_lexer": "ipython3",
   "version": "3.10.13"
  }
 },
 "nbformat": 4,
 "nbformat_minor": 5
}
