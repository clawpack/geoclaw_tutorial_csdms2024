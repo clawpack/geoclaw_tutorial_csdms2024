{
 "cells": [
  {
   "cell_type": "markdown",
   "id": "1a6c9470-71a4-4cc8-99ad-1500d81ca1b6",
   "metadata": {},
   "source": [
    "# Sample results for Quillayute River flooding\n",
    "\n",
    "Example from https://github.com/rjleveque/csdms_clinic_2024.  The code to run this test is in the [quiallayute subdirectory](https://github.com/rjleveque/csdms_clinic_2024/tree/main/quillayute).\n",
    "\n",
    "Test problem setting up a steady state flow in the [Quillayute River](https://en.wikipedia.org/wiki/Quillayute_River) that flows into the Pacific Ocean at La Push, WA (in the [Quileute Tribal Nation](https://quileutenation.org/)).\n",
    "\n",
    "This is a region in danger of flooding, where remediation efforts are underway.  See for example [this story](https://wildsalmoncenter.org/2019/12/09/restoring-the-quillayute-before-it-floods-la-push/), which includes a good Google Earth image of a potentially flooded region."
   ]
  },
  {
   "cell_type": "code",
   "execution_count": null,
   "id": "4dba6400-725d-4d9f-81d6-ed15a9e2fe7f",
   "metadata": {},
   "outputs": [],
   "source": [
    "%matplotlib inline"
   ]
  },
  {
   "cell_type": "code",
   "execution_count": null,
   "id": "f0b10be8-bcd8-42eb-8779-4929f409a07c",
   "metadata": {},
   "outputs": [],
   "source": [
    "from pylab import *"
   ]
  },
  {
   "cell_type": "markdown",
   "id": "ed44c6e8-a189-4f18-912a-497029a47d84",
   "metadata": {},
   "source": [
    "### Plot topography DEM\n",
    "If you are using the CSDMS JupyterHub, select the Clawpack kernel before running this notebook in order to import clawpack modules. (The kernel appears in the top-right corner of the notebook, click on it to get a menu of possible kernels.)  This kernel also includes pylab and matplotlib."
   ]
  },
  {
   "cell_type": "code",
   "execution_count": null,
   "id": "f648fae5-65d3-42dd-8261-0c7fb1130f19",
   "metadata": {},
   "outputs": [],
   "source": [
    "from clawpack.geoclaw import topotools\n",
    "\n",
    "topo = topotools.Topography('Quillayute_13s.asc', topo_type=3)\n",
    "\n",
    "fig,ax = subplots(figsize=(10,4))\n",
    "topo.plot(axes=ax, limits=[-20,20], cb_kwargs={'extend':'both'})\n",
    "title('Topography DEM (0 = MHW)');"
   ]
  },
  {
   "cell_type": "markdown",
   "id": "edd2e282-68da-4e6c-88ef-55b2b1dca182",
   "metadata": {},
   "source": [
    "## View plots in notebook\n",
    "\n",
    "After running `make .plots`, the `_plots` directory contains plots that can be viewed by opening the html file `_plots/_PlotIndex.html`.\n",
    "\n",
    "This notebook can be used if you are on a JupyterHub where you are not able to open that file to view the plots."
   ]
  },
  {
   "cell_type": "code",
   "execution_count": null,
   "id": "dee5c932-2933-4669-817c-13496b877ca3",
   "metadata": {
    "tags": []
   },
   "outputs": [],
   "source": [
    "#from clawpack.clawutil import nbtools\n",
    "# The tools we need aren't in clawpack yet, so use the local version:\n",
    "import sys\n",
    "sys.path.insert(0, '..')\n",
    "import nbtools"
   ]
  },
  {
   "cell_type": "code",
   "execution_count": null,
   "id": "072cbf37-ce91-4977-9c03-e79facfd11a7",
   "metadata": {},
   "outputs": [],
   "source": [
    "rundir = '.'\n",
    "#rundir = '/data/quillayute'    # to use data archived on CSDMS JupyterHub"
   ]
  },
  {
   "cell_type": "code",
   "execution_count": null,
   "id": "32b8b10f-bc6b-47bd-90b0-eb28383e30a1",
   "metadata": {},
   "outputs": [],
   "source": [
    "plotdir = '%s/_plots' % rundir # to use data archived on CSDMS JupyterHub"
   ]
  },
  {
   "cell_type": "markdown",
   "id": "707e1ab8-bb7b-46c3-abcc-283644699719",
   "metadata": {},
   "source": [
    "### Initial conditions:\n",
    "\n",
    "The water depth is initialized based on the topography (which is referenced to MHW), so the part of the river where the river bed is below MHW has water in it and the rest is dry. "
   ]
  },
  {
   "cell_type": "code",
   "execution_count": null,
   "id": "45b81876-0a28-4ddc-a426-63cc5008e020",
   "metadata": {},
   "outputs": [],
   "source": [
    "nbtools.show_frame(frameno=0, figno=1, plotdir=plotdir)"
   ]
  },
  {
   "cell_type": "markdown",
   "id": "ab505e7a-dca8-4a62-a6c6-44a572074b0e",
   "metadata": {},
   "source": [
    "### Evolution of depth:\n",
    "\n",
    "Note that AMR patch edges are shown levels 2 and 3 (refinement by 4 at each level)."
   ]
  },
  {
   "cell_type": "code",
   "execution_count": null,
   "id": "67e301b6-8491-43f6-8d40-598f79ea2f26",
   "metadata": {
    "tags": []
   },
   "outputs": [],
   "source": [
    "for frameno in range(1,4):\n",
    "    print('Frame %i:' % frameno)\n",
    "    nbtools.show_frame(frameno, figno=0, plotdir=plotdir)"
   ]
  },
  {
   "cell_type": "markdown",
   "id": "b8d0ac2f-6518-4e56-88b2-efbbeb81166b",
   "metadata": {},
   "source": [
    "### Zoom near La Push\n",
    "\n",
    "We see that a steady state is approached over the first hour"
   ]
  },
  {
   "cell_type": "code",
   "execution_count": null,
   "id": "1e6680f8-f098-4833-840b-25afb3fff783",
   "metadata": {},
   "outputs": [],
   "source": [
    "for frameno in range(2,7,2):\n",
    "    nbtools.show_frame(frameno, figno=1, plotdir=plotdir)"
   ]
  },
  {
   "cell_type": "markdown",
   "id": "33e0c288-d2db-4fcf-a5ac-ea010a8675fa",
   "metadata": {},
   "source": [
    "### Gauge plots\n",
    "\n",
    "Time series at the two synthetic gauges 101 and 102 shown in the plots above show the evolution of the water surface."
   ]
  },
  {
   "cell_type": "code",
   "execution_count": null,
   "id": "c0a45916-bcbf-460e-b402-553a9c147faa",
   "metadata": {
    "tags": []
   },
   "outputs": [],
   "source": [
    "for gaugeno in [101,102]:\n",
    "    nbtools.show_gauge(gaugeno, width_percent=70, plotdir=plotdir)"
   ]
  },
  {
   "cell_type": "markdown",
   "id": "f98acc09-a5ba-4506-92a5-ae947f228387",
   "metadata": {},
   "source": [
    "One hour is not long enough to reach steady state flow, 2-3 hours are needed for this problem.  Running the code out longer shows this time series at Gauge 102, for example:\n",
    "\n",
    "<img src=\"Gauge102_3hours.png\" width = 70%>"
   ]
  },
  {
   "cell_type": "markdown",
   "id": "e76f4b78-f58f-412d-96fb-30b9d19f55f6",
   "metadata": {},
   "source": [
    "### Animation over the full domain:\n",
    "\n",
    "These plots also show the AMR patch boundaries.  Note that the river source region is shown by the yellow rectangle near the right edge of the domain."
   ]
  },
  {
   "cell_type": "code",
   "execution_count": null,
   "id": "059e80e2-d80c-4a53-a216-38246f37aebe",
   "metadata": {
    "tags": []
   },
   "outputs": [],
   "source": [
    "nbtools.show_movie(figno=0, width_percent=100, height_pixels=600, plotdir=plotdir)"
   ]
  },
  {
   "cell_type": "markdown",
   "id": "8b1567d5-5c24-40aa-8f2a-ddc848aa6801",
   "metadata": {},
   "source": [
    "## Add flooding event\n",
    "\n",
    "Re-running the code via:\n",
    "\n",
    "    make -f Makefile_flood\n",
    "    make data -f Makefile_flood\n",
    "    make output -f Makefile_flood\n",
    "    make plots -f Makefile_flood\n",
    "\n",
    "adds a major precipitation event east of -124.59 with a duration of 15 minutes starting at 1 hour.\n",
    "Then the plots below should be available in `_plots_flood`."
   ]
  },
  {
   "cell_type": "code",
   "execution_count": null,
   "id": "9e4cf103-1fb5-4095-a339-dfe1dcaf6548",
   "metadata": {},
   "outputs": [],
   "source": [
    "plotdir = '%s/_plots_flood' % rundir"
   ]
  },
  {
   "cell_type": "code",
   "execution_count": null,
   "id": "0daaac58-1fa1-4796-9208-e109d2a90e30",
   "metadata": {},
   "outputs": [],
   "source": [
    "for frameno in range(4,9,2):\n",
    "    nbtools.show_frame(frameno, figno=0, plotdir=plotdir)"
   ]
  },
  {
   "cell_type": "markdown",
   "id": "47c2dd8f-4c94-4122-bad8-6ec7b4985d84",
   "metadata": {},
   "source": [
    "### Animations of the La Push region:"
   ]
  },
  {
   "cell_type": "code",
   "execution_count": null,
   "id": "0d16fbe6-3a20-4049-90f8-6d553741ea78",
   "metadata": {},
   "outputs": [],
   "source": [
    "nbtools.show_movie(figno=1, plotdir=plotdir, width_percent=100, height_pixels=600)"
   ]
  },
  {
   "cell_type": "code",
   "execution_count": null,
   "id": "c7feca96-8f19-4cad-a78b-07a91f14f305",
   "metadata": {},
   "outputs": [],
   "source": [
    "nbtools.show_movie(figno=11, plotdir=plotdir, width_percent=100, height_pixels=600)"
   ]
  },
  {
   "cell_type": "markdown",
   "id": "9bd2068c-9f36-4e00-8d1e-1836393872b4",
   "metadata": {},
   "source": [
    "### Gauge plots:"
   ]
  },
  {
   "cell_type": "code",
   "execution_count": null,
   "id": "4f9ed9f6-e849-4c7c-9c9d-18f64623c1b0",
   "metadata": {},
   "outputs": [],
   "source": [
    "for gaugeno in [101,102]:\n",
    "    nbtools.show_gauge(gaugeno, plotdir=plotdir, width_percent=70)"
   ]
  },
  {
   "cell_type": "code",
   "execution_count": null,
   "id": "58e6619d-6a0a-45cc-a1d4-bdaf63f5d677",
   "metadata": {},
   "outputs": [],
   "source": []
  }
 ],
 "metadata": {
  "kernelspec": {
   "display_name": "Python 3 (ipykernel)",
   "language": "python",
   "name": "python3"
  },
  "language_info": {
   "codemirror_mode": {
    "name": "ipython",
    "version": 3
   },
   "file_extension": ".py",
   "mimetype": "text/x-python",
   "name": "python",
   "nbconvert_exporter": "python",
   "pygments_lexer": "ipython3",
   "version": "3.10.13"
  }
 },
 "nbformat": 4,
 "nbformat_minor": 5
}
