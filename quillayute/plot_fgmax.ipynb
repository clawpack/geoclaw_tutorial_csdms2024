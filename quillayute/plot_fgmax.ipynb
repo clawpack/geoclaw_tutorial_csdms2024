{
 "cells": [
  {
   "cell_type": "markdown",
   "id": "e1403e11-db5f-4136-9f8f-3c90621a067a",
   "metadata": {},
   "source": [
    "# Plot fgmax results\n",
    "\n",
    "This notebook shows a simple example of how to load fgmax results (the maximum value over the entire simulation at specified fixed grid points) and plot the maximum flow depth.\n",
    "\n",
    "For more details, see https://www.clawpack.org/fgmax.html"
   ]
  },
  {
   "cell_type": "code",
   "execution_count": null,
   "id": "4b89d6c4-ad4b-43da-8605-700982cda163",
   "metadata": {},
   "outputs": [],
   "source": [
    "%matplotlib inline"
   ]
  },
  {
   "cell_type": "code",
   "execution_count": null,
   "id": "2713e538-5539-445b-8cb9-91c29d226046",
   "metadata": {},
   "outputs": [],
   "source": [
    "from pylab import *\n",
    "import os"
   ]
  },
  {
   "cell_type": "code",
   "execution_count": null,
   "id": "89ceb8dc-f9aa-419e-9e99-54c7133faab2",
   "metadata": {},
   "outputs": [],
   "source": [
    "from clawpack.geoclaw import fgmax_tools\n",
    "from clawpack.visclaw import geoplot"
   ]
  },
  {
   "cell_type": "code",
   "execution_count": null,
   "id": "4fae6a98-dba8-4a2a-9ede-1fb24db2408e",
   "metadata": {},
   "outputs": [],
   "source": [
    "rundir = '.'\n",
    "#rundir = '/data/quillayute'    # to use data archived on CSDMS JupyterHub"
   ]
  },
  {
   "cell_type": "code",
   "execution_count": null,
   "id": "dc591304-38b0-4271-af1f-59db60b46b8e",
   "metadata": {},
   "outputs": [],
   "source": [
    "outdir = '%s/_output_flood' % rundir\n",
    "plotdir = '%s/_plots_flood' % rundir"
   ]
  },
  {
   "cell_type": "code",
   "execution_count": null,
   "id": "5e56342f-af66-407a-8e65-860304d76787",
   "metadata": {},
   "outputs": [],
   "source": [
    "fg = fgmax_tools.FGmaxGrid()\n",
    "fg.outdir = outdir\n",
    "data_file = os.path.join(outdir, 'fgmax_grids.data')\n",
    "fg.read_fgmax_grids_data(fgno=1, data_file=data_file)\n",
    "fg.read_output()"
   ]
  },
  {
   "cell_type": "code",
   "execution_count": null,
   "id": "4ce0c5b3-619f-4e1d-808c-ce2e888204f1",
   "metadata": {},
   "outputs": [],
   "source": [
    "figure(figsize=(8,5))\n",
    "\n",
    "# plot dry land where fgmax captured as green:\n",
    "topo_dry = where(fg.h < 0.01, fg.B, nan)\n",
    "contourf(fg.X, fg.Y, topo_dry, [0,100], colors=['g'])\n",
    "\n",
    "clines_h = [0.01] + list(arange(0.5,5,0.5))  # contour levels for depth\n",
    "colors = geoplot.discrete_cmap_1(clines_h)\n",
    "h_onshore = where(fg.B>0, fg.h, nan)\n",
    "contourf(fg.X, fg.Y, h_onshore, clines_h, colors=colors)\n",
    "colorbar()\n",
    "contour(fg.X, fg.Y, fg.B,[0.], colors='k')  # shore\n",
    "\n",
    "# fix axes:\n",
    "ticklabel_format(useOffset=False)\n",
    "xticks(rotation=20)\n",
    "gca().set_aspect(1./cos(fg.Y.mean()*pi/180.))  # proper aspect ratio at this latitude\n",
    "title('Maximum flow depth where B>0');"
   ]
  },
  {
   "cell_type": "markdown",
   "id": "4fa07e52-7916-410a-b462-dc0820a7fc5b",
   "metadata": {},
   "source": [
    "In the plot above, note that the river is white because `B<0`, the dark green areas are where fgmax data was collected but the land remained dry, and the other white areas are where no fgmax values were stored because `setrun.py` specified that fgmax values should only be updated on level 3, but these areas were never refined to that level."
   ]
  },
  {
   "cell_type": "code",
   "execution_count": null,
   "id": "10ab3cc0-7f1a-41df-b2e7-a5770fde17e3",
   "metadata": {},
   "outputs": [],
   "source": []
  }
 ],
 "metadata": {
  "kernelspec": {
   "display_name": "Python 3 (ipykernel)",
   "language": "python",
   "name": "python3"
  },
  "language_info": {
   "codemirror_mode": {
    "name": "ipython",
    "version": 3
   },
   "file_extension": ".py",
   "mimetype": "text/x-python",
   "name": "python",
   "nbconvert_exporter": "python",
   "pygments_lexer": "ipython3",
   "version": "3.10.13"
  }
 },
 "nbformat": 4,
 "nbformat_minor": 5
}
